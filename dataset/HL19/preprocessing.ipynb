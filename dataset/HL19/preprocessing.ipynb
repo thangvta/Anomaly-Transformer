{
 "cells": [
  {
   "cell_type": "code",
   "execution_count": 2,
   "id": "f6198901",
   "metadata": {},
   "outputs": [],
   "source": [
    "import pandas as pd\n",
    "\n",
    "# Load the dataset\n",
    "df = pd.read_csv(\"data_hl19.csv\", parse_dates=[\"date\"])\n",
    "\n",
    "# Ensure date is in datetime format\n",
    "df['date'] = pd.to_datetime(df['date'])\n",
    "\n",
    "# Filter for February (train) and March (test)\n",
    "train_df = df[(df['date'] >= '2025-02-20') & (df['date'] < '2025-03-01')]\n",
    "test_df = df[(df['date'] >= '2025-03-01') & (df['date'] <= '2025-03-05 17:45')]\n",
    "\n",
    "# Save to CSV\n",
    "train_df.to_csv(\"train-mini.csv\", index=False)\n",
    "test_df.to_csv(\"test-mini.csv\", index=False)\n"
   ]
  }
 ],
 "metadata": {
  "kernelspec": {
   "display_name": "aio",
   "language": "python",
   "name": "python3"
  },
  "language_info": {
   "codemirror_mode": {
    "name": "ipython",
    "version": 3
   },
   "file_extension": ".py",
   "mimetype": "text/x-python",
   "name": "python",
   "nbconvert_exporter": "python",
   "pygments_lexer": "ipython3",
   "version": "3.12.9"
  }
 },
 "nbformat": 4,
 "nbformat_minor": 5
}
